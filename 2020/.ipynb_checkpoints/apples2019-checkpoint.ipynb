{
 "cells": [
  {
   "cell_type": "code",
   "execution_count": 170,
   "metadata": {},
   "outputs": [
    {
     "data": {
      "text/plain": [
       "159"
      ]
     },
     "execution_count": 170,
     "metadata": {},
     "output_type": "execute_result"
    }
   ],
   "source": [
    "list = ['2020/02012020.pdf', '2020/04012020.pdf', '2020/06012020.pdf', '2020/07012020.pdf', '2020/08012020.pdf', '2020/09012020.pdf', '2020/10012020.pdf', '2020/11012020.pdf', '2020/13012020.pdf', '2020/14012020.pdf', '2020/15012020.pdf', '2020/16012020.pdf', '2020/17012020.pdf', '2020/18012020.pdf', '2020/20012020.pdf', '2020/21012020.pdf', '2020/22012020.pdf', '2020/23012020.pdf', '2020/24012020.pdf', '2020/25012020.pdf', '2020/27012020.pdf', '2020/28012020.pdf', '2020/29012020.pdf', '2020/30012020.pdf', '2020/31012020.pdf', '2020/01022020.pdf', '2020/03022020.pdf', '2020/04022020.pdf', '2020/05022020.pdf', '2020/06022020.pdf', '2020/07022020.pdf', '2020/09022020.pdf', '2020/10022020.pdf', '2020/11022020.pdf', '2020/12022020.pdf', '2020/13022020.pdf', '2020/14022020.pdf', '2020/15022020.pdf', '2020/17022020.pdf', '2020/18022020.pdf', '2020/19022020.pdf', '2020/20022020.pdf', '2020/21022020.pdf', '2020/24022020.pdf', '2020/25022020.pdf', '2020/26022020.pdf', '2020/27022020.pdf', '2020/28022020.pdf', '2020/29022020.pdf', '2020/03032020.pdf', '2020/04032020.pdf', '2020/05032020.pdf', '2020/06032020.pdf', '2020/07032020.pdf', '2020/09032020.pdf', '2020/11032020.pdf', '2020/12022020.pdf', '2020/13032020.pdf', '2020/16032020.pdf', '2020/17032020.pdf', '2020/18032020.pdf', '2020/19032020.pdf', '2020/20032020.pdf', '2020/21032020.pdf', '2020/23032020.pdf', '2020/24032020.pdf', '2020/25032020.pdf', '2020/26032020.pdf', '2020/27032020.pdf', '2020/28032020.PDF', '2020/30032020.pdf', '2020/31032020.pdf', '2020/01042020.pdf', '2020/02042020.pdf', '2020/03042020.pdf', '2020/04042020.pdf', '2020/06042020.pdf', '2020/07042020.pdf', '2020/08042020.pdf', '2020/09042020.pdf', '2020/10042020.pdf', '2020/11042020.pdf', '2020/13042020.pdf', '2020/14042020.pdf', '2020/15042020.pdf', '2020/16042020.pdf', '2020/17042020.pdf', '2020/18042020.PDF', '2020/20042020.pdf', '2020/21042020.pdf', '2020/22042020.pdf', '2020/23042020.pdf', '2020/24042020.pdf', '2020/25042020.pdf', '2020/27042020.pdf', '2020/28042020.pdf', '2020/28042020.pdf', '2020/30042020.pdf', '2020/01052020.pdf', '2020/02052020.pdf', '2020/04052020.pdf', '2020/05052020.pdf', '2020/06052020.pdf', '2020/07052020.pdf', '2020/08052020.PDF', '2020/09052020.pdf', '2020/11052020.pdf', '2020/12052020.pdf', '2020/13052020.pdf', '2020/15052020.pdf', '2020/18052020.pdf', '2020/19052020.pdf', '2020/20052020.pdf', '2020/21052020.pdf', '2020/22052020.pdf', '2020/23052020.pdf', '2020/25052020.pdf', '2020/26052020.pdf', '2020/27052020.pdf', '2020/28052020.pdf', '2020/29052020.pdf', '2020/30052020.pdf', '2020/01062020.pdf', '2020/02062020.pdf', '2020/03062020.pdf', '2020/04062020.pdf', '2020/05062020.pdf', '2020/06062020.pdf', '2020/08062020.pdf', '2020/09062020.pdf', '2020/10062020.pdf', '2020/11062020.pdf', '2020/12062020.pdf', '2020/13062020.pdf', '2020/15062020.pdf', '2020/16062020.pdf', '2020/17062020.pdf', '2020/18062020.pdf', '2020/19062020.pdf', '2020/20062020.pdf', '2020/22062020.pdf', '2020/23062020.pdf', '2020/24062020.pdf', '2020/25062020.pdf', '2020/26062020.pdf', '2020/29062020.pdf', '2020/30062020.pdf', '2020/01072020.pdf', '2020/02072020.pdf', '2020/03072020.pdf', '2020/04072020.pdf', '2020/06072020.pdf', '2020/07072020.pdf', '2020/08072020.pdf', '2020/09072020.pdf', '2020/10072020.pdf', '2020/11072020.pdf', '2020/13072020.pdf', '2020/14072020.pdf']\n",
    "len(list)"
   ]
  },
  {
   "cell_type": "code",
   "execution_count": 171,
   "metadata": {},
   "outputs": [],
   "source": [
    "import camelot\n",
    "import pandas as pd\n",
    "import datetime"
   ]
  },
  {
   "cell_type": "code",
   "execution_count": 172,
   "metadata": {},
   "outputs": [],
   "source": [
    "tables = camelot.read_pdf(\"01012020.pdf\")\n",
    "df = tables[0].df[10:]"
   ]
  },
  {
   "cell_type": "code",
   "execution_count": 173,
   "metadata": {},
   "outputs": [],
   "source": [
    "df.columns =['S', 'NAME', 'ARRIVAL_IN_TONS', 'VARIETY', 'WEIGHT_IN_KG', 'KG', 'PACKING_SIZE', 'TYPE_OF_GRADE', 'MIN_PRICE', 'MAX_PRICE', 'MODAL_PRICE']"
   ]
  },
  {
   "cell_type": "code",
   "execution_count": 174,
   "metadata": {},
   "outputs": [],
   "source": [
    "df = df.drop(df.index[0])"
   ]
  },
  {
   "cell_type": "code",
   "execution_count": 175,
   "metadata": {},
   "outputs": [],
   "source": [
    "df = df.drop(['S', 'ARRIVAL_IN_TONS', 'KG'], axis=1)"
   ]
  },
  {
   "cell_type": "code",
   "execution_count": 176,
   "metadata": {},
   "outputs": [],
   "source": [
    "df['Date'] = \"01012020\""
   ]
  },
  {
   "cell_type": "code",
   "execution_count": 177,
   "metadata": {},
   "outputs": [],
   "source": [
    "df = df.reset_index(drop=True)"
   ]
  },
  {
   "cell_type": "code",
   "execution_count": 178,
   "metadata": {},
   "outputs": [],
   "source": [
    "idx = df.index[df['NAME'] == 'AMROOD']\n",
    "idx = idx[0]"
   ]
  },
  {
   "cell_type": "code",
   "execution_count": 179,
   "metadata": {},
   "outputs": [],
   "source": [
    "df = df[0:idx]"
   ]
  },
  {
   "cell_type": "code",
   "execution_count": 180,
   "metadata": {},
   "outputs": [
    {
     "name": "stdout",
     "output_type": "stream",
     "text": [
      "02012020.pdf\n",
      "04012020.pdf\n",
      "06012020.pdf\n",
      "07012020.pdf\n",
      "08012020.pdf\n",
      "09012020.pdf\n",
      "10012020.pdf\n",
      "11012020.pdf\n",
      "13012020.pdf\n",
      "14012020.pdf\n",
      "15012020.pdf\n",
      "16012020.pdf\n",
      "17012020.pdf\n",
      "18012020.pdf\n",
      "20012020.pdf\n",
      "21012020.pdf\n",
      "22012020.pdf\n",
      "23012020.pdf\n",
      "24012020.pdf\n",
      "25012020.pdf\n",
      "27012020.pdf\n",
      "28012020.pdf\n",
      "29012020.pdf\n",
      "30012020.pdf\n",
      "31012020.pdf\n",
      "01022020.pdf\n",
      "03022020.pdf\n",
      "04022020.pdf\n",
      "05022020.pdf\n",
      "06022020.pdf\n",
      "07022020.pdf\n",
      "09022020.pdf\n",
      "10022020.pdf\n",
      "11022020.pdf\n",
      "12022020.pdf\n",
      "13022020.pdf\n",
      "14022020.pdf\n",
      "15022020.pdf\n",
      "17022020.pdf\n",
      "18022020.pdf\n",
      "19022020.pdf\n",
      "20022020.pdf\n",
      "21022020.pdf\n",
      "24022020.pdf\n",
      "25022020.pdf\n",
      "26022020.pdf\n",
      "27022020.pdf\n",
      "28022020.pdf\n",
      "29022020.pdf\n",
      "03032020.pdf\n",
      "04032020.pdf\n",
      "05032020.pdf\n",
      "06032020.pdf\n",
      "07032020.pdf\n",
      "09032020.pdf\n",
      "11032020.pdf\n",
      "12022020.pdf\n",
      "13032020.pdf\n",
      "16032020.pdf\n",
      "17032020.pdf\n",
      "18032020.pdf\n",
      "19032020.pdf\n",
      "20032020.pdf\n",
      "21032020.pdf\n",
      "23032020.pdf\n",
      "24032020.pdf\n",
      "25032020.pdf\n",
      "26032020.pdf\n",
      "27032020.pdf\n",
      "28032020.PDF\n",
      "30032020.pdf\n",
      "31032020.pdf\n",
      "01042020.pdf\n",
      "02042020.pdf\n",
      "03042020.pdf\n",
      "04042020.pdf\n",
      "06042020.pdf\n",
      "07042020.pdf\n",
      "08042020.pdf\n",
      "09042020.pdf\n",
      "10042020.pdf\n",
      "11042020.pdf\n",
      "13042020.pdf\n",
      "14042020.pdf\n",
      "15042020.pdf\n",
      "16042020.pdf\n",
      "17042020.pdf\n",
      "18042020.PDF\n",
      "20042020.pdf\n",
      "21042020.pdf\n",
      "22042020.pdf\n",
      "23042020.pdf\n",
      "24042020.pdf\n",
      "25042020.pdf\n",
      "27042020.pdf\n",
      "28042020.pdf\n",
      "28042020.pdf\n",
      "30042020.pdf\n",
      "01052020.pdf\n",
      "02052020.pdf\n",
      "04052020.pdf\n",
      "05052020.pdf\n",
      "06052020.pdf\n",
      "07052020.pdf\n",
      "08052020.PDF\n",
      "09052020.pdf\n",
      "11052020.pdf\n",
      "12052020.pdf\n",
      "13052020.pdf\n",
      "15052020.pdf\n",
      "18052020.pdf\n",
      "19052020.pdf\n",
      "20052020.pdf\n",
      "21052020.pdf\n",
      "22052020.pdf\n",
      "23052020.pdf\n",
      "25052020.pdf\n",
      "26052020.pdf\n",
      "27052020.pdf\n",
      "28052020.pdf\n",
      "29052020.pdf\n",
      "30052020.pdf\n",
      "01062020.pdf\n",
      "02062020.pdf\n",
      "03062020.pdf\n",
      "04062020.pdf\n",
      "05062020.pdf\n",
      "06062020.pdf\n",
      "08062020.pdf\n",
      "09062020.pdf\n",
      "10062020.pdf\n",
      "11062020.pdf\n",
      "12062020.pdf\n",
      "13062020.pdf\n",
      "15062020.pdf\n",
      "16062020.pdf\n",
      "17062020.pdf\n",
      "18062020.pdf\n",
      "19062020.pdf\n",
      "20062020.pdf\n",
      "22062020.pdf\n",
      "23062020.pdf\n",
      "24062020.pdf\n",
      "25062020.pdf\n",
      "26062020.pdf\n",
      "29062020.pdf\n",
      "30062020.pdf\n",
      "01072020.pdf\n",
      "02072020.pdf\n",
      "03072020.pdf\n",
      "04072020.pdf\n",
      "06072020.pdf\n",
      "07072020.pdf\n",
      "08072020.pdf\n",
      "09072020.pdf\n",
      "10072020.pdf\n",
      "11072020.pdf\n",
      "13072020.pdf\n",
      "14072020.pdf\n"
     ]
    }
   ],
   "source": [
    "for item in list:\n",
    "    print(item[5:])\n",
    "    table = camelot.read_pdf(item[5:])\n",
    "    df1 = table[0].df[10:]\n",
    "    df1.columns =['S', 'NAME', 'ARRIVAL_IN_TONS', 'VARIETY', 'WEIGHT_IN_KG', 'KG', 'PACKING_SIZE', 'TYPE_OF_GRADE', 'MIN_PRICE', 'MAX_PRICE', 'MODAL_PRICE']\n",
    "    df1 = df1.reset_index(drop=True)\n",
    "    idx1 = df1.index[df1['NAME'] == 'AMROOD']\n",
    "    idx1 = idx1[0]\n",
    "    df1 = df1[0:idx1]\n",
    "    df1 = df1.drop(df1.index[0])\n",
    "    df1 = df1.drop(['ARRIVAL_IN_TONS', 'KG'], axis=1)\n",
    "    df1['Date'] = item[5:13]\n",
    "    df = pd.concat([df, df1], axis=0)"
   ]
  },
  {
   "cell_type": "code",
   "execution_count": 181,
   "metadata": {},
   "outputs": [],
   "source": [
    "df.to_excel(\"apples2020.xlsx\")\n"
   ]
  },
  {
   "cell_type": "code",
   "execution_count": null,
   "metadata": {},
   "outputs": [],
   "source": []
  }
 ],
 "metadata": {
  "kernelspec": {
   "display_name": "Python 3",
   "language": "python",
   "name": "python3"
  },
  "language_info": {
   "codemirror_mode": {
    "name": "ipython",
    "version": 3
   },
   "file_extension": ".py",
   "mimetype": "text/x-python",
   "name": "python",
   "nbconvert_exporter": "python",
   "pygments_lexer": "ipython3",
   "version": "3.7.6"
  }
 },
 "nbformat": 4,
 "nbformat_minor": 4
}
