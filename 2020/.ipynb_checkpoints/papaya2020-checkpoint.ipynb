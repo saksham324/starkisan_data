{
 "cells": [
  {
   "cell_type": "code",
   "execution_count": 24,
   "metadata": {},
   "outputs": [
    {
     "data": {
      "text/plain": [
       "159"
      ]
     },
     "execution_count": 24,
     "metadata": {},
     "output_type": "execute_result"
    }
   ],
   "source": [
    "list = ['2020/02012020.pdf', '2020/04012020.pdf', '2020/06012020.pdf', '2020/07012020.pdf', '2020/08012020.pdf', '2020/09012020.pdf', '2020/10012020.pdf', '2020/11012020.pdf', '2020/13012020.pdf', '2020/14012020.pdf', '2020/15012020.pdf', '2020/16012020.pdf', '2020/17012020.pdf', '2020/18012020.pdf', '2020/20012020.pdf', '2020/21012020.pdf', '2020/22012020.pdf', '2020/23012020.pdf', '2020/24012020.pdf', '2020/25012020.pdf', '2020/27012020.pdf', '2020/28012020.pdf', '2020/29012020.pdf', '2020/30012020.pdf', '2020/31012020.pdf', '2020/01022020.pdf', '2020/03022020.pdf', '2020/04022020.pdf', '2020/05022020.pdf', '2020/06022020.pdf', '2020/07022020.pdf', '2020/09022020.pdf', '2020/10022020.pdf', '2020/11022020.pdf', '2020/12022020.pdf', '2020/13022020.pdf', '2020/14022020.pdf', '2020/15022020.pdf', '2020/17022020.pdf', '2020/18022020.pdf', '2020/19022020.pdf', '2020/20022020.pdf', '2020/21022020.pdf', '2020/24022020.pdf', '2020/25022020.pdf', '2020/26022020.pdf', '2020/27022020.pdf', '2020/28022020.pdf', '2020/29022020.pdf', '2020/03032020.pdf', '2020/04032020.pdf', '2020/05032020.pdf', '2020/06032020.pdf', '2020/07032020.pdf', '2020/09032020.pdf', '2020/11032020.pdf', '2020/12022020.pdf', '2020/13032020.pdf', '2020/16032020.pdf', '2020/17032020.pdf', '2020/18032020.pdf', '2020/19032020.pdf', '2020/20032020.pdf', '2020/21032020.pdf', '2020/23032020.pdf', '2020/24032020.pdf', '2020/25032020.pdf', '2020/26032020.pdf', '2020/27032020.pdf', '2020/28032020.PDF', '2020/30032020.pdf', '2020/31032020.pdf', '2020/01042020.pdf', '2020/02042020.pdf', '2020/03042020.pdf', '2020/04042020.pdf', '2020/06042020.pdf', '2020/07042020.pdf', '2020/08042020.pdf', '2020/09042020.pdf', '2020/10042020.pdf', '2020/11042020.pdf', '2020/13042020.pdf', '2020/14042020.pdf', '2020/15042020.pdf', '2020/16042020.pdf', '2020/17042020.pdf', '2020/18042020.PDF', '2020/20042020.pdf', '2020/21042020.pdf', '2020/22042020.pdf', '2020/23042020.pdf', '2020/24042020.pdf', '2020/25042020.pdf', '2020/27042020.pdf', '2020/28042020.pdf', '2020/28042020.pdf', '2020/30042020.pdf', '2020/01052020.pdf', '2020/02052020.pdf', '2020/04052020.pdf', '2020/05052020.pdf', '2020/06052020.pdf', '2020/07052020.pdf', '2020/08052020.PDF', '2020/09052020.pdf', '2020/11052020.pdf', '2020/12052020.pdf', '2020/13052020.pdf', '2020/15052020.pdf', '2020/18052020.pdf', '2020/19052020.pdf', '2020/20052020.pdf', '2020/21052020.pdf', '2020/22052020.pdf', '2020/23052020.pdf', '2020/25052020.pdf', '2020/26052020.pdf', '2020/27052020.pdf', '2020/28052020.pdf', '2020/29052020.pdf', '2020/30052020.pdf', '2020/01062020.pdf', '2020/02062020.pdf', '2020/03062020.pdf', '2020/04062020.pdf', '2020/05062020.pdf', '2020/06062020.pdf', '2020/08062020.pdf', '2020/09062020.pdf', '2020/10062020.pdf', '2020/11062020.pdf', '2020/12062020.pdf', '2020/13062020.pdf', '2020/15062020.pdf', '2020/16062020.pdf', '2020/17062020.pdf', '2020/18062020.pdf', '2020/19062020.pdf', '2020/20062020.pdf', '2020/22062020.pdf', '2020/23062020.pdf', '2020/24062020.pdf', '2020/25062020.pdf', '2020/26062020.pdf', '2020/29062020.pdf', '2020/30062020.pdf', '2020/01072020.pdf', '2020/02072020.pdf', '2020/03072020.pdf', '2020/04072020.pdf', '2020/06072020.pdf', '2020/07072020.pdf', '2020/08072020.pdf', '2020/09072020.pdf', '2020/10072020.pdf', '2020/11072020.pdf', '2020/13072020.pdf', '2020/14072020.pdf']\n",
    "len(list)"
   ]
  },
  {
   "cell_type": "code",
   "execution_count": 2,
   "metadata": {},
   "outputs": [],
   "source": [
    "import camelot\n",
    "import pandas as pd\n",
    "import datetime"
   ]
  },
  {
   "cell_type": "code",
   "execution_count": 25,
   "metadata": {},
   "outputs": [],
   "source": [
    "tables = camelot.read_pdf(\"01012020.pdf\", pages=\"1, 2\")\n",
    "df = tables[0].df[10:]\n",
    "df2 = tables[1].df[1:]\n",
    "df = pd.concat([df,df2], axis=0)"
   ]
  },
  {
   "cell_type": "code",
   "execution_count": null,
   "metadata": {},
   "outputs": [],
   "source": []
  },
  {
   "cell_type": "code",
   "execution_count": 26,
   "metadata": {},
   "outputs": [],
   "source": [
    "df.columns =['S', 'NAME', 'ARRIVAL_IN_TONS', 'VARIETY', 'WEIGHT_IN_KG', 'KG', 'PACKING_SIZE', 'TYPE_OF_GRADE', 'MIN_PRICE', 'MAX_PRICE', 'MODAL_PRICE']"
   ]
  },
  {
   "cell_type": "code",
   "execution_count": 27,
   "metadata": {},
   "outputs": [],
   "source": [
    "df = df.drop(df.index[0])"
   ]
  },
  {
   "cell_type": "code",
   "execution_count": 28,
   "metadata": {},
   "outputs": [],
   "source": [
    "df = df.drop(['S', 'ARRIVAL_IN_TONS', 'KG'], axis=1)"
   ]
  },
  {
   "cell_type": "code",
   "execution_count": 29,
   "metadata": {},
   "outputs": [],
   "source": [
    "df['Date'] = \"01012020\""
   ]
  },
  {
   "cell_type": "code",
   "execution_count": 30,
   "metadata": {},
   "outputs": [],
   "source": [
    "df = df.reset_index(drop=True)"
   ]
  },
  {
   "cell_type": "code",
   "execution_count": 31,
   "metadata": {},
   "outputs": [],
   "source": [
    "idx_start = df.index[df['NAME'] == 'BANANA']\n",
    "idx_end = df.index[df['NAME'] == 'BER']\n",
    "idx_start = idx_start[0]\n",
    "idx_end = idx_end[0]\n",
    "df = df[idx_start:idx_end]"
   ]
  },
  {
   "cell_type": "code",
   "execution_count": 32,
   "metadata": {},
   "outputs": [
    {
     "data": {
      "text/html": [
       "<div>\n",
       "<style scoped>\n",
       "    .dataframe tbody tr th:only-of-type {\n",
       "        vertical-align: middle;\n",
       "    }\n",
       "\n",
       "    .dataframe tbody tr th {\n",
       "        vertical-align: top;\n",
       "    }\n",
       "\n",
       "    .dataframe thead th {\n",
       "        text-align: right;\n",
       "    }\n",
       "</style>\n",
       "<table border=\"1\" class=\"dataframe\">\n",
       "  <thead>\n",
       "    <tr style=\"text-align: right;\">\n",
       "      <th></th>\n",
       "      <th>NAME</th>\n",
       "      <th>VARIETY</th>\n",
       "      <th>WEIGHT_IN_KG</th>\n",
       "      <th>PACKING_SIZE</th>\n",
       "      <th>TYPE_OF_GRADE</th>\n",
       "      <th>MIN_PRICE</th>\n",
       "      <th>MAX_PRICE</th>\n",
       "      <th>MODAL_PRICE</th>\n",
       "      <th>Date</th>\n",
       "    </tr>\n",
       "  </thead>\n",
       "  <tbody>\n",
       "    <tr>\n",
       "      <th>58</th>\n",
       "      <td>BANANA</td>\n",
       "      <td></td>\n",
       "      <td></td>\n",
       "      <td></td>\n",
       "      <td></td>\n",
       "      <td></td>\n",
       "      <td></td>\n",
       "      <td></td>\n",
       "      <td>01012020</td>\n",
       "    </tr>\n",
       "    <tr>\n",
       "      <th>59</th>\n",
       "      <td>GUJ/MP/AP/SAWDA/JALGAON</td>\n",
       "      <td></td>\n",
       "      <td>100</td>\n",
       "      <td>LOOSE</td>\n",
       "      <td>A</td>\n",
       "      <td>1500</td>\n",
       "      <td>1700</td>\n",
       "      <td>1600</td>\n",
       "      <td>01012020</td>\n",
       "    </tr>\n",
       "    <tr>\n",
       "      <th>60</th>\n",
       "      <td></td>\n",
       "      <td></td>\n",
       "      <td>100</td>\n",
       "      <td>LOOSE</td>\n",
       "      <td>B</td>\n",
       "      <td>1200</td>\n",
       "      <td>1400</td>\n",
       "      <td>1300</td>\n",
       "      <td>01012020</td>\n",
       "    </tr>\n",
       "  </tbody>\n",
       "</table>\n",
       "</div>"
      ],
      "text/plain": [
       "                       NAME VARIETY WEIGHT_IN_KG PACKING_SIZE TYPE_OF_GRADE  \\\n",
       "58                   BANANA                                                   \n",
       "59  GUJ/MP/AP/SAWDA/JALGAON                  100        LOOSE             A   \n",
       "60                                           100        LOOSE             B   \n",
       "\n",
       "   MIN_PRICE MAX_PRICE MODAL_PRICE      Date  \n",
       "58                                  01012020  \n",
       "59      1500      1700        1600  01012020  \n",
       "60      1200      1400        1300  01012020  "
      ]
     },
     "execution_count": 32,
     "metadata": {},
     "output_type": "execute_result"
    }
   ],
   "source": [
    "df"
   ]
  },
  {
   "cell_type": "code",
   "execution_count": null,
   "metadata": {},
   "outputs": [
    {
     "name": "stdout",
     "output_type": "stream",
     "text": [
      "02012020.pdf\n",
      "04012020.pdf\n",
      "06012020.pdf\n",
      "07012020.pdf\n",
      "08012020.pdf\n",
      "09012020.pdf\n",
      "10012020.pdf\n",
      "11012020.pdf\n",
      "13012020.pdf\n",
      "14012020.pdf\n"
     ]
    }
   ],
   "source": [
    "for item in list:\n",
    "    print(item[5:])\n",
    "    table = camelot.read_pdf(item[5:], pages=\"1, 2\")\n",
    "    df1 = tables[0].df[10:]\n",
    "    df3 = tables[1].df[1:]\n",
    "    df1 = pd.concat([df1,df3], axis=0)\n",
    "    df1.columns =['S', 'NAME', 'ARRIVAL_IN_TONS', 'VARIETY', 'WEIGHT_IN_KG', 'KG', 'PACKING_SIZE', 'TYPE_OF_GRADE', 'MIN_PRICE', 'MAX_PRICE', 'MODAL_PRICE']\n",
    "    df1 = df1.reset_index(drop=True)\n",
    "    idx_start1 = df1.index[df1['NAME'] == 'BANANA']\n",
    "    idx_end1 = df1.index[df1['NAME'] == 'BER']\n",
    "    idx_start1 = idx_start1[0]\n",
    "    idx_end1 = idx_end1[0]\n",
    "    df1 = df1[idx_start:idx_end]\n",
    "    df1 = df1.drop(df1.index[0])\n",
    "    df1 = df1.drop(['ARRIVAL_IN_TONS', 'KG'], axis=1)\n",
    "    df1['Date'] = item[5:13]\n",
    "    df = pd.concat([df, df1], axis=0)"
   ]
  },
  {
   "cell_type": "code",
   "execution_count": null,
   "metadata": {},
   "outputs": [],
   "source": [
    "df.to_excel(\"bananas2020.xlsx\")\n"
   ]
  },
  {
   "cell_type": "code",
   "execution_count": null,
   "metadata": {},
   "outputs": [],
   "source": []
  }
 ],
 "metadata": {
  "kernelspec": {
   "display_name": "Python 3",
   "language": "python",
   "name": "python3"
  },
  "language_info": {
   "codemirror_mode": {
    "name": "ipython",
    "version": 3
   },
   "file_extension": ".py",
   "mimetype": "text/x-python",
   "name": "python",
   "nbconvert_exporter": "python",
   "pygments_lexer": "ipython3",
   "version": "3.7.6"
  }
 },
 "nbformat": 4,
 "nbformat_minor": 4
}
