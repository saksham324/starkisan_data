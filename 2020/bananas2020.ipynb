{
 "cells": [
  {
   "cell_type": "code",
   "execution_count": 55,
   "metadata": {},
   "outputs": [
    {
     "data": {
      "text/plain": [
       "159"
      ]
     },
     "execution_count": 55,
     "metadata": {},
     "output_type": "execute_result"
    }
   ],
   "source": [
    "list = ['2020/02012020.pdf', '2020/04012020.pdf', '2020/06012020.pdf', '2020/07012020.pdf', '2020/08012020.pdf', '2020/09012020.pdf', '2020/10012020.pdf', '2020/11012020.pdf', '2020/13012020.pdf', '2020/14012020.pdf', '2020/15012020.pdf', '2020/16012020.pdf', '2020/17012020.pdf', '2020/18012020.pdf', '2020/20012020.pdf', '2020/21012020.pdf', '2020/22012020.pdf', '2020/23012020.pdf', '2020/24012020.pdf', '2020/25012020.pdf', '2020/27012020.pdf', '2020/28012020.pdf', '2020/29012020.pdf', '2020/30012020.pdf', '2020/31012020.pdf', '2020/01022020.pdf', '2020/03022020.pdf', '2020/04022020.pdf', '2020/05022020.pdf', '2020/06022020.pdf', '2020/07022020.pdf', '2020/09022020.pdf', '2020/10022020.pdf', '2020/11022020.pdf', '2020/12022020.pdf', '2020/13022020.pdf', '2020/14022020.pdf', '2020/15022020.pdf', '2020/17022020.pdf', '2020/18022020.pdf', '2020/19022020.pdf', '2020/20022020.pdf', '2020/21022020.pdf', '2020/24022020.pdf', '2020/25022020.pdf', '2020/26022020.pdf', '2020/27022020.pdf', '2020/28022020.pdf', '2020/29022020.pdf', '2020/03032020.pdf', '2020/04032020.pdf', '2020/05032020.pdf', '2020/06032020.pdf', '2020/07032020.pdf', '2020/09032020.pdf', '2020/11032020.pdf', '2020/12022020.pdf', '2020/13032020.pdf', '2020/16032020.pdf', '2020/17032020.pdf', '2020/18032020.pdf', '2020/19032020.pdf', '2020/20032020.pdf', '2020/21032020.pdf', '2020/23032020.pdf', '2020/24032020.pdf', '2020/25032020.pdf', '2020/26032020.pdf', '2020/27032020.pdf','2020/28032020.pdf', '2020/30032020.pdf', '2020/31032020.pdf', '2020/01042020.pdf', '2020/02042020.pdf', '2020/03042020.pdf', '2020/04042020.pdf', '2020/06042020.pdf', '2020/07042020.pdf', '2020/08042020.pdf', '2020/09042020.pdf', '2020/10042020.pdf', '2020/11042020.pdf', '2020/13042020.pdf', '2020/14042020.pdf', '2020/15042020.pdf', '2020/16042020.pdf', '2020/17042020.pdf', '2020/18042020.PDF', '2020/20042020.pdf', '2020/21042020.pdf', '2020/22042020.pdf', '2020/23042020.pdf', '2020/24042020.pdf', '2020/25042020.pdf', '2020/27042020.pdf', '2020/28042020.pdf', '2020/28042020.pdf', '2020/30042020.pdf', '2020/01052020.pdf', '2020/02052020.pdf', '2020/04052020.pdf', '2020/05052020.pdf', '2020/06052020.pdf', '2020/07052020.pdf', '2020/08052020.PDF', '2020/09052020.pdf', '2020/11052020.pdf', '2020/12052020.pdf', '2020/13052020.pdf', '2020/15052020.pdf', '2020/18052020.pdf', '2020/19052020.pdf', '2020/20052020.pdf', '2020/21052020.pdf', '2020/22052020.pdf', '2020/23052020.pdf', '2020/25052020.pdf', '2020/26052020.pdf', '2020/27052020.pdf', '2020/28052020.pdf', '2020/29052020.pdf', '2020/30052020.pdf', '2020/01062020.pdf', '2020/02062020.pdf', '2020/03062020.pdf', '2020/04062020.pdf', '2020/05062020.pdf', '2020/06062020.pdf', '2020/08062020.pdf', '2020/09062020.pdf', '2020/10062020.pdf', '2020/11062020.pdf', '2020/12062020.pdf', '2020/13062020.pdf', '2020/15062020.pdf', '2020/16062020.pdf', '2020/17062020.pdf', '2020/18062020.pdf', '2020/19062020.pdf', '2020/20062020.pdf', '2020/22062020.pdf', '2020/23062020.pdf', '2020/24062020.pdf', '2020/25062020.pdf', '2020/26062020.pdf', '2020/29062020.pdf', '2020/30062020.pdf', '2020/01072020.pdf', '2020/02072020.pdf', '2020/03072020.pdf', '2020/04072020.pdf', '2020/06072020.pdf', '2020/07072020.pdf', '2020/08072020.pdf', '2020/09072020.pdf', '2020/10072020.pdf', '2020/11072020.pdf', '2020/13072020.pdf', '2020/14072020.pdf']\n",
    "len(list)"
   ]
  },
  {
   "cell_type": "code",
   "execution_count": 56,
   "metadata": {},
   "outputs": [],
   "source": [
    "import camelot\n",
    "import pandas as pd\n",
    "import datetime"
   ]
  },
  {
   "cell_type": "code",
   "execution_count": 59,
   "metadata": {},
   "outputs": [
    {
     "ename": "IndexError",
     "evalue": "list index out of range",
     "output_type": "error",
     "traceback": [
      "\u001b[0;31m---------------------------------------------------------------------------\u001b[0m",
      "\u001b[0;31mIndexError\u001b[0m                                Traceback (most recent call last)",
      "\u001b[0;32m<ipython-input-59-379e38612912>\u001b[0m in \u001b[0;36m<module>\u001b[0;34m\u001b[0m\n\u001b[1;32m      1\u001b[0m \u001b[0mtables\u001b[0m \u001b[0;34m=\u001b[0m \u001b[0mcamelot\u001b[0m\u001b[0;34m.\u001b[0m\u001b[0mread_pdf\u001b[0m\u001b[0;34m(\u001b[0m\u001b[0;34m\"01012020.pdf\"\u001b[0m\u001b[0;34m,\u001b[0m \u001b[0mpages\u001b[0m\u001b[0;34m=\u001b[0m\u001b[0;34m\"6\"\u001b[0m\u001b[0;34m)\u001b[0m\u001b[0;34m\u001b[0m\u001b[0;34m\u001b[0m\u001b[0m\n\u001b[1;32m      2\u001b[0m \u001b[0mdf\u001b[0m \u001b[0;34m=\u001b[0m \u001b[0mtables\u001b[0m\u001b[0;34m[\u001b[0m\u001b[0;36m0\u001b[0m\u001b[0;34m]\u001b[0m\u001b[0;34m.\u001b[0m\u001b[0mdf\u001b[0m\u001b[0;34m[\u001b[0m\u001b[0;36m10\u001b[0m\u001b[0;34m:\u001b[0m\u001b[0;34m]\u001b[0m\u001b[0;34m\u001b[0m\u001b[0;34m\u001b[0m\u001b[0m\n\u001b[0;32m----> 3\u001b[0;31m \u001b[0mdf2\u001b[0m \u001b[0;34m=\u001b[0m \u001b[0mtables\u001b[0m\u001b[0;34m[\u001b[0m\u001b[0;36m1\u001b[0m\u001b[0;34m]\u001b[0m\u001b[0;34m.\u001b[0m\u001b[0mdf\u001b[0m\u001b[0;34m[\u001b[0m\u001b[0;36m1\u001b[0m\u001b[0;34m:\u001b[0m\u001b[0;34m]\u001b[0m\u001b[0;34m\u001b[0m\u001b[0;34m\u001b[0m\u001b[0m\n\u001b[0m\u001b[1;32m      4\u001b[0m \u001b[0mdf\u001b[0m \u001b[0;34m=\u001b[0m \u001b[0mpd\u001b[0m\u001b[0;34m.\u001b[0m\u001b[0mconcat\u001b[0m\u001b[0;34m(\u001b[0m\u001b[0;34m[\u001b[0m\u001b[0mdf\u001b[0m\u001b[0;34m,\u001b[0m\u001b[0mdf2\u001b[0m\u001b[0;34m]\u001b[0m\u001b[0;34m,\u001b[0m \u001b[0maxis\u001b[0m\u001b[0;34m=\u001b[0m\u001b[0;36m0\u001b[0m\u001b[0;34m)\u001b[0m\u001b[0;34m\u001b[0m\u001b[0;34m\u001b[0m\u001b[0m\n",
      "\u001b[0;32m~/opt/anaconda3/lib/python3.7/site-packages/camelot/core.py\u001b[0m in \u001b[0;36m__getitem__\u001b[0;34m(self, idx)\u001b[0m\n\u001b[1;32m    676\u001b[0m \u001b[0;34m\u001b[0m\u001b[0m\n\u001b[1;32m    677\u001b[0m     \u001b[0;32mdef\u001b[0m \u001b[0m__getitem__\u001b[0m\u001b[0;34m(\u001b[0m\u001b[0mself\u001b[0m\u001b[0;34m,\u001b[0m \u001b[0midx\u001b[0m\u001b[0;34m)\u001b[0m\u001b[0;34m:\u001b[0m\u001b[0;34m\u001b[0m\u001b[0;34m\u001b[0m\u001b[0m\n\u001b[0;32m--> 678\u001b[0;31m         \u001b[0;32mreturn\u001b[0m \u001b[0mself\u001b[0m\u001b[0;34m.\u001b[0m\u001b[0m_tables\u001b[0m\u001b[0;34m[\u001b[0m\u001b[0midx\u001b[0m\u001b[0;34m]\u001b[0m\u001b[0;34m\u001b[0m\u001b[0;34m\u001b[0m\u001b[0m\n\u001b[0m\u001b[1;32m    679\u001b[0m \u001b[0;34m\u001b[0m\u001b[0m\n\u001b[1;32m    680\u001b[0m     \u001b[0;34m@\u001b[0m\u001b[0mstaticmethod\u001b[0m\u001b[0;34m\u001b[0m\u001b[0;34m\u001b[0m\u001b[0m\n",
      "\u001b[0;31mIndexError\u001b[0m: list index out of range"
     ]
    }
   ],
   "source": [
    "tables = camelot.read_pdf(\"01012020.pdf\", pages=\"6\")\n",
    "df = tables[0].df[10:]\n",
    "df2 = tables[1].df[1:]\n",
    "df = pd.concat([df,df2], axis=0)"
   ]
  },
  {
   "cell_type": "code",
   "execution_count": null,
   "metadata": {},
   "outputs": [],
   "source": []
  },
  {
   "cell_type": "code",
   "execution_count": 58,
   "metadata": {},
   "outputs": [],
   "source": [
    "df.columns =['S', 'NAME', 'ARRIVAL_IN_TONS', 'VARIETY', 'WEIGHT_IN_KG', 'KG', 'PACKING_SIZE', 'TYPE_OF_GRADE', 'MIN_PRICE', 'MAX_PRICE', 'MODAL_PRICE']"
   ]
  },
  {
   "cell_type": "code",
   "execution_count": 43,
   "metadata": {},
   "outputs": [],
   "source": [
    "df = df.drop(df.index[0])"
   ]
  },
  {
   "cell_type": "code",
   "execution_count": 44,
   "metadata": {},
   "outputs": [],
   "source": [
    "df = df.drop(['S', 'ARRIVAL_IN_TONS', 'KG'], axis=1)"
   ]
  },
  {
   "cell_type": "code",
   "execution_count": 45,
   "metadata": {},
   "outputs": [],
   "source": [
    "df['Date'] = \"01012020\""
   ]
  },
  {
   "cell_type": "code",
   "execution_count": 46,
   "metadata": {},
   "outputs": [],
   "source": [
    "df = df.reset_index(drop=True)"
   ]
  },
  {
   "cell_type": "code",
   "execution_count": 47,
   "metadata": {},
   "outputs": [],
   "source": [
    "idx_start = df.index[df['NAME'] == 'ONION']\n",
    "idx_end = df.index[df['NAME'] == 'G.ONION']\n",
    "idx_start = idx_start[0]\n",
    "idx_end = idx_end[0]\n",
    "df = df[idx_start:idx_end]"
   ]
  },
  {
   "cell_type": "code",
   "execution_count": 48,
   "metadata": {},
   "outputs": [
    {
     "data": {
      "text/html": [
       "<div>\n",
       "<style scoped>\n",
       "    .dataframe tbody tr th:only-of-type {\n",
       "        vertical-align: middle;\n",
       "    }\n",
       "\n",
       "    .dataframe tbody tr th {\n",
       "        vertical-align: top;\n",
       "    }\n",
       "\n",
       "    .dataframe thead th {\n",
       "        text-align: right;\n",
       "    }\n",
       "</style>\n",
       "<table border=\"1\" class=\"dataframe\">\n",
       "  <thead>\n",
       "    <tr style=\"text-align: right;\">\n",
       "      <th></th>\n",
       "      <th>NAME</th>\n",
       "      <th>VARIETY</th>\n",
       "      <th>WEIGHT_IN_KG</th>\n",
       "      <th>PACKING_SIZE</th>\n",
       "      <th>TYPE_OF_GRADE</th>\n",
       "      <th>MIN_PRICE</th>\n",
       "      <th>MAX_PRICE</th>\n",
       "      <th>MODAL_PRICE</th>\n",
       "      <th>Date</th>\n",
       "    </tr>\n",
       "  </thead>\n",
       "  <tbody>\n",
       "    <tr>\n",
       "      <th>58</th>\n",
       "      <td>BANANA</td>\n",
       "      <td></td>\n",
       "      <td></td>\n",
       "      <td></td>\n",
       "      <td></td>\n",
       "      <td></td>\n",
       "      <td></td>\n",
       "      <td></td>\n",
       "      <td>01012020</td>\n",
       "    </tr>\n",
       "    <tr>\n",
       "      <th>59</th>\n",
       "      <td>GUJ/MP/AP/SAWDA/JALGAON</td>\n",
       "      <td></td>\n",
       "      <td>100</td>\n",
       "      <td>LOOSE</td>\n",
       "      <td>A</td>\n",
       "      <td>1500</td>\n",
       "      <td>1700</td>\n",
       "      <td>1600</td>\n",
       "      <td>01012020</td>\n",
       "    </tr>\n",
       "    <tr>\n",
       "      <th>60</th>\n",
       "      <td></td>\n",
       "      <td></td>\n",
       "      <td>100</td>\n",
       "      <td>LOOSE</td>\n",
       "      <td>B</td>\n",
       "      <td>1200</td>\n",
       "      <td>1400</td>\n",
       "      <td>1300</td>\n",
       "      <td>01012020</td>\n",
       "    </tr>\n",
       "  </tbody>\n",
       "</table>\n",
       "</div>"
      ],
      "text/plain": [
       "                       NAME VARIETY WEIGHT_IN_KG PACKING_SIZE TYPE_OF_GRADE  \\\n",
       "58                   BANANA                                                   \n",
       "59  GUJ/MP/AP/SAWDA/JALGAON                  100        LOOSE             A   \n",
       "60                                           100        LOOSE             B   \n",
       "\n",
       "   MIN_PRICE MAX_PRICE MODAL_PRICE      Date  \n",
       "58                                  01012020  \n",
       "59      1500      1700        1600  01012020  \n",
       "60      1200      1400        1300  01012020  "
      ]
     },
     "execution_count": 48,
     "metadata": {},
     "output_type": "execute_result"
    }
   ],
   "source": [
    "df"
   ]
  },
  {
   "cell_type": "code",
   "execution_count": 49,
   "metadata": {},
   "outputs": [
    {
     "name": "stdout",
     "output_type": "stream",
     "text": [
      "02012020.pdf\n",
      "04012020.pdf\n",
      "06012020.pdf\n",
      "07012020.pdf\n",
      "08012020.pdf\n",
      "09012020.pdf\n",
      "10012020.pdf\n",
      "11012020.pdf\n",
      "13012020.pdf\n",
      "14012020.pdf\n",
      "15012020.pdf\n",
      "16012020.pdf\n",
      "17012020.pdf\n",
      "18012020.pdf\n",
      "20012020.pdf\n",
      "21012020.pdf\n",
      "22012020.pdf\n",
      "23012020.pdf\n",
      "24012020.pdf\n",
      "25012020.pdf\n",
      "27012020.pdf\n",
      "28012020.pdf\n",
      "29012020.pdf\n",
      "30012020.pdf\n",
      "31012020.pdf\n",
      "01022020.pdf\n",
      "03022020.pdf\n",
      "04022020.pdf\n",
      "05022020.pdf\n",
      "06022020.pdf\n",
      "07022020.pdf\n",
      "09022020.pdf\n",
      "10022020.pdf\n",
      "11022020.pdf\n",
      "12022020.pdf\n",
      "13022020.pdf\n",
      "14022020.pdf\n",
      "15022020.pdf\n",
      "17022020.pdf\n",
      "18022020.pdf\n",
      "19022020.pdf\n",
      "20022020.pdf\n",
      "21022020.pdf\n",
      "24022020.pdf\n",
      "25022020.pdf\n",
      "26022020.pdf\n",
      "27022020.pdf\n",
      "28022020.pdf\n",
      "29022020.pdf\n",
      "03032020.pdf\n",
      "04032020.pdf\n",
      "05032020.pdf\n",
      "06032020.pdf\n",
      "07032020.pdf\n",
      "09032020.pdf\n",
      "11032020.pdf\n",
      "12022020.pdf\n",
      "13032020.pdf\n",
      "16032020.pdf\n",
      "17032020.pdf\n",
      "18032020.pdf\n",
      "19032020.pdf\n",
      "20032020.pdf\n",
      "21032020.pdf\n",
      "23032020.pdf\n",
      "24032020.pdf\n",
      "25032020.pdf\n",
      "26032020.pdf\n",
      "27032020.pdf\n",
      "30032020.pdf\n"
     ]
    },
    {
     "ename": "IndexError",
     "evalue": "index 0 is out of bounds for axis 0 with size 0",
     "output_type": "error",
     "traceback": [
      "\u001b[0;31m---------------------------------------------------------------------------\u001b[0m",
      "\u001b[0;31mIndexError\u001b[0m                                Traceback (most recent call last)",
      "\u001b[0;32m<ipython-input-49-abac6c1e61f2>\u001b[0m in \u001b[0;36m<module>\u001b[0;34m\u001b[0m\n\u001b[1;32m     10\u001b[0m     \u001b[0midx_end1\u001b[0m \u001b[0;34m=\u001b[0m \u001b[0mdf1\u001b[0m\u001b[0;34m.\u001b[0m\u001b[0mindex\u001b[0m\u001b[0;34m[\u001b[0m\u001b[0mdf1\u001b[0m\u001b[0;34m[\u001b[0m\u001b[0;34m'NAME'\u001b[0m\u001b[0;34m]\u001b[0m \u001b[0;34m==\u001b[0m \u001b[0;34m'BER'\u001b[0m\u001b[0;34m]\u001b[0m\u001b[0;34m\u001b[0m\u001b[0;34m\u001b[0m\u001b[0m\n\u001b[1;32m     11\u001b[0m     \u001b[0midx_start1\u001b[0m \u001b[0;34m=\u001b[0m \u001b[0midx_start1\u001b[0m\u001b[0;34m[\u001b[0m\u001b[0;36m0\u001b[0m\u001b[0;34m]\u001b[0m\u001b[0;34m\u001b[0m\u001b[0;34m\u001b[0m\u001b[0m\n\u001b[0;32m---> 12\u001b[0;31m     \u001b[0midx_end1\u001b[0m \u001b[0;34m=\u001b[0m \u001b[0midx_end1\u001b[0m\u001b[0;34m[\u001b[0m\u001b[0;36m0\u001b[0m\u001b[0;34m]\u001b[0m\u001b[0;34m\u001b[0m\u001b[0;34m\u001b[0m\u001b[0m\n\u001b[0m\u001b[1;32m     13\u001b[0m     \u001b[0mdf1\u001b[0m \u001b[0;34m=\u001b[0m \u001b[0mdf1\u001b[0m\u001b[0;34m[\u001b[0m\u001b[0midx_start\u001b[0m\u001b[0;34m:\u001b[0m\u001b[0midx_end\u001b[0m\u001b[0;34m]\u001b[0m\u001b[0;34m\u001b[0m\u001b[0;34m\u001b[0m\u001b[0m\n\u001b[1;32m     14\u001b[0m     \u001b[0mdf1\u001b[0m \u001b[0;34m=\u001b[0m \u001b[0mdf1\u001b[0m\u001b[0;34m.\u001b[0m\u001b[0mdrop\u001b[0m\u001b[0;34m(\u001b[0m\u001b[0mdf1\u001b[0m\u001b[0;34m.\u001b[0m\u001b[0mindex\u001b[0m\u001b[0;34m[\u001b[0m\u001b[0;36m0\u001b[0m\u001b[0;34m]\u001b[0m\u001b[0;34m)\u001b[0m\u001b[0;34m\u001b[0m\u001b[0;34m\u001b[0m\u001b[0m\n",
      "\u001b[0;32m~/opt/anaconda3/lib/python3.7/site-packages/pandas/core/indexes/base.py\u001b[0m in \u001b[0;36m__getitem__\u001b[0;34m(self, key)\u001b[0m\n\u001b[1;32m   3928\u001b[0m         \u001b[0;32mif\u001b[0m \u001b[0mis_scalar\u001b[0m\u001b[0;34m(\u001b[0m\u001b[0mkey\u001b[0m\u001b[0;34m)\u001b[0m\u001b[0;34m:\u001b[0m\u001b[0;34m\u001b[0m\u001b[0;34m\u001b[0m\u001b[0m\n\u001b[1;32m   3929\u001b[0m             \u001b[0mkey\u001b[0m \u001b[0;34m=\u001b[0m \u001b[0mcom\u001b[0m\u001b[0;34m.\u001b[0m\u001b[0mcast_scalar_indexer\u001b[0m\u001b[0;34m(\u001b[0m\u001b[0mkey\u001b[0m\u001b[0;34m)\u001b[0m\u001b[0;34m\u001b[0m\u001b[0;34m\u001b[0m\u001b[0m\n\u001b[0;32m-> 3930\u001b[0;31m             \u001b[0;32mreturn\u001b[0m \u001b[0mgetitem\u001b[0m\u001b[0;34m(\u001b[0m\u001b[0mkey\u001b[0m\u001b[0;34m)\u001b[0m\u001b[0;34m\u001b[0m\u001b[0;34m\u001b[0m\u001b[0m\n\u001b[0m\u001b[1;32m   3931\u001b[0m \u001b[0;34m\u001b[0m\u001b[0m\n\u001b[1;32m   3932\u001b[0m         \u001b[0;32mif\u001b[0m \u001b[0misinstance\u001b[0m\u001b[0;34m(\u001b[0m\u001b[0mkey\u001b[0m\u001b[0;34m,\u001b[0m \u001b[0mslice\u001b[0m\u001b[0;34m)\u001b[0m\u001b[0;34m:\u001b[0m\u001b[0;34m\u001b[0m\u001b[0;34m\u001b[0m\u001b[0m\n",
      "\u001b[0;31mIndexError\u001b[0m: index 0 is out of bounds for axis 0 with size 0"
     ]
    }
   ],
   "source": [
    "for item in list:\n",
    "    print(item[5:])\n",
    "    table = camelot.read_pdf(item[5:], pages=\"1, 2\")\n",
    "    df1 = table[0].df[10:]\n",
    "    df3 = table[1].df[1:]\n",
    "    df1 = pd.concat([df1,df3], axis=0)\n",
    "    df1.columns =['S', 'NAME', 'ARRIVAL_IN_TONS', 'VARIETY', 'WEIGHT_IN_KG', 'KG', 'PACKING_SIZE', 'TYPE_OF_GRADE', 'MIN_PRICE', 'MAX_PRICE', 'MODAL_PRICE']\n",
    "    df1 = df1.reset_index(drop=True)\n",
    "    idx_start1 = df1.index[df1['NAME'] == 'ONION']\n",
    "    idx_end1 = df1.index[df1['NAME'] == 'G.ONION']\n",
    "    idx_start1 = idx_start1[0]\n",
    "    idx_end1 = idx_end1[0]\n",
    "    df1 = df1[idx_start:idx_end]\n",
    "    df1 = df1.drop(df1.index[0])\n",
    "    df1 = df1.drop(['ARRIVAL_IN_TONS', 'KG'], axis=1)\n",
    "    df1['Date'] = item[5:13]\n",
    "    df = pd.concat([df, df1], axis=0)"
   ]
  },
  {
   "cell_type": "code",
   "execution_count": 36,
   "metadata": {},
   "outputs": [],
   "source": []
  },
  {
   "cell_type": "code",
   "execution_count": 51,
   "metadata": {},
   "outputs": [],
   "source": [
    "list2 = ['2020/28032020.pdf', '2020/30032020.pdf', '2020/31032020.pdf', '2020/01042020.pdf', '2020/02042020.pdf', '2020/03042020.pdf', '2020/04042020.pdf', '2020/06042020.pdf', '2020/07042020.pdf', '2020/08042020.pdf', '2020/09042020.pdf', '2020/10042020.pdf', '2020/11042020.pdf', '2020/13042020.pdf', '2020/14042020.pdf', '2020/15042020.pdf', '2020/16042020.pdf', '2020/17042020.pdf', '2020/18042020.PDF', '2020/20042020.pdf', '2020/21042020.pdf', '2020/22042020.pdf', '2020/23042020.pdf', '2020/24042020.pdf', '2020/25042020.pdf', '2020/27042020.pdf', '2020/28042020.pdf', '2020/28042020.pdf', '2020/30042020.pdf', '2020/01052020.pdf', '2020/02052020.pdf', '2020/04052020.pdf', '2020/05052020.pdf', '2020/06052020.pdf', '2020/07052020.pdf', '2020/08052020.PDF', '2020/09052020.pdf', '2020/11052020.pdf', '2020/12052020.pdf', '2020/13052020.pdf', '2020/15052020.pdf', '2020/18052020.pdf', '2020/19052020.pdf', '2020/20052020.pdf', '2020/21052020.pdf', '2020/22052020.pdf', '2020/23052020.pdf', '2020/25052020.pdf', '2020/26052020.pdf', '2020/27052020.pdf', '2020/28052020.pdf', '2020/29052020.pdf', '2020/30052020.pdf', '2020/01062020.pdf', '2020/02062020.pdf', '2020/03062020.pdf', '2020/04062020.pdf', '2020/05062020.pdf', '2020/06062020.pdf', '2020/08062020.pdf', '2020/09062020.pdf', '2020/10062020.pdf', '2020/11062020.pdf', '2020/12062020.pdf', '2020/13062020.pdf', '2020/15062020.pdf', '2020/16062020.pdf', '2020/17062020.pdf', '2020/18062020.pdf', '2020/19062020.pdf', '2020/20062020.pdf', '2020/22062020.pdf', '2020/23062020.pdf', '2020/24062020.pdf', '2020/25062020.pdf', '2020/26062020.pdf', '2020/29062020.pdf', '2020/30062020.pdf', '2020/01072020.pdf', '2020/02072020.pdf', '2020/03072020.pdf', '2020/04072020.pdf', '2020/06072020.pdf', '2020/07072020.pdf', '2020/08072020.pdf', '2020/09072020.pdf', '2020/10072020.pdf', '2020/11072020.pdf', '2020/13072020.pdf', '2020/14072020.pdf']\n"
   ]
  },
  {
   "cell_type": "code",
   "execution_count": 52,
   "metadata": {},
   "outputs": [
    {
     "name": "stdout",
     "output_type": "stream",
     "text": [
      "28032020.pdf\n",
      "30032020.pdf\n",
      "31032020.pdf\n",
      "01042020.pdf\n",
      "02042020.pdf\n",
      "03042020.pdf\n",
      "04042020.pdf\n",
      "06042020.pdf\n",
      "07042020.pdf\n",
      "08042020.pdf\n",
      "09042020.pdf\n",
      "10042020.pdf\n",
      "11042020.pdf\n",
      "13042020.pdf\n",
      "14042020.pdf\n",
      "15042020.pdf\n",
      "16042020.pdf\n",
      "17042020.pdf\n",
      "18042020.PDF\n",
      "20042020.pdf\n",
      "21042020.pdf\n",
      "22042020.pdf\n",
      "23042020.pdf\n",
      "24042020.pdf\n",
      "25042020.pdf\n",
      "27042020.pdf\n",
      "28042020.pdf\n",
      "28042020.pdf\n",
      "30042020.pdf\n",
      "01052020.pdf\n",
      "02052020.pdf\n",
      "04052020.pdf\n",
      "05052020.pdf\n",
      "06052020.pdf\n",
      "07052020.pdf\n",
      "08052020.PDF\n",
      "09052020.pdf\n",
      "11052020.pdf\n",
      "12052020.pdf\n",
      "13052020.pdf\n",
      "15052020.pdf\n",
      "18052020.pdf\n",
      "19052020.pdf\n",
      "20052020.pdf\n",
      "21052020.pdf\n",
      "22052020.pdf\n",
      "23052020.pdf\n",
      "25052020.pdf\n",
      "26052020.pdf\n",
      "27052020.pdf\n",
      "28052020.pdf\n",
      "29052020.pdf\n",
      "30052020.pdf\n",
      "01062020.pdf\n",
      "02062020.pdf\n",
      "03062020.pdf\n",
      "04062020.pdf\n",
      "05062020.pdf\n",
      "06062020.pdf\n",
      "08062020.pdf\n",
      "09062020.pdf\n",
      "10062020.pdf\n",
      "11062020.pdf\n",
      "12062020.pdf\n",
      "13062020.pdf\n",
      "15062020.pdf\n",
      "16062020.pdf\n",
      "17062020.pdf\n",
      "18062020.pdf\n",
      "19062020.pdf\n",
      "20062020.pdf\n",
      "22062020.pdf\n",
      "23062020.pdf\n",
      "24062020.pdf\n",
      "25062020.pdf\n",
      "26062020.pdf\n",
      "29062020.pdf\n",
      "30062020.pdf\n",
      "01072020.pdf\n",
      "02072020.pdf\n",
      "03072020.pdf\n",
      "04072020.pdf\n",
      "06072020.pdf\n",
      "07072020.pdf\n",
      "08072020.pdf\n",
      "09072020.pdf\n",
      "10072020.pdf\n",
      "11072020.pdf\n",
      "13072020.pdf\n",
      "14072020.pdf\n"
     ]
    }
   ],
   "source": [
    "for item in list2:\n",
    "    print(item[5:])\n",
    "    tabl = camelot.read_pdf(item[5:], pages=\"1, 2\")\n",
    "    df1 = table[0].df[10:]\n",
    "    df3 = table[1].df[1:]\n",
    "    df1 = pd.concat([df1,df3], axis=0)\n",
    "    df1.columns =['S', 'NAME', 'ARRIVAL_IN_TONS', 'VARIETY', 'WEIGHT_IN_KG', 'KG', 'PACKING_SIZE', 'TYPE_OF_GRADE', 'MIN_PRICE', 'MAX_PRICE', 'MODAL_PRICE']\n",
    "    df1 = df1.reset_index(drop=True)\n",
    "    idx_start1 = df1.index[df1['NAME'] == 'BANANA']\n",
    "    idx_end1 = df1.index[df1['NAME'] == 'R.BER']\n",
    "    idx_start1 = idx_start1[0]\n",
    "    idx_end1 = idx_end1[0]\n",
    "    df1 = df1[idx_start:idx_end]\n",
    "    df1 = df1.drop(df1.index[0])\n",
    "    df1 = df1.drop(['ARRIVAL_IN_TONS', 'KG'], axis=1)\n",
    "    df1['Date'] = item[5:13]\n",
    "    df = pd.concat([df, df1], axis=0)"
   ]
  },
  {
   "cell_type": "code",
   "execution_count": 53,
   "metadata": {},
   "outputs": [],
   "source": [
    "df.to_excel(\"bananas2020.xlsx\")"
   ]
  },
  {
   "cell_type": "code",
   "execution_count": null,
   "metadata": {},
   "outputs": [],
   "source": []
  }
 ],
 "metadata": {
  "kernelspec": {
   "display_name": "Python 3",
   "language": "python",
   "name": "python3"
  },
  "language_info": {
   "codemirror_mode": {
    "name": "ipython",
    "version": 3
   },
   "file_extension": ".py",
   "mimetype": "text/x-python",
   "name": "python",
   "nbconvert_exporter": "python",
   "pygments_lexer": "ipython3",
   "version": "3.7.6"
  }
 },
 "nbformat": 4,
 "nbformat_minor": 4
}
